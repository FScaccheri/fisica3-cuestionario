{
 "cells": [
  {
   "cell_type": "code",
   "execution_count": null,
   "metadata": {},
   "outputs": [],
   "source": [
    "# import math\n",
    "print(\"FISICA 3 DIAMETRO DE ANILLO DE DIFRACCION\")\n",
    "\n",
    "D = 127 # mm\n",
    "v = 5000 # Volts\n",
    "d = 1.6811e-10 # m\n",
    "n = 2\n",
    "\n",
    "h = 6.62607015e-34 # J*s = Kg * m^2 / s\n",
    "me = 9.1093837015e-31 # Kg\n",
    "e = 1.602176634e-19 # Coulomb\n",
    "c = 2.99792458e8 # m/s\n",
    "\n",
    "Ece = v * e\n",
    "Ee = Ece + me*c*c\n",
    "term1 = (Ee * Ee) / (c*c)\n",
    "term2 = me*me * c*c\n",
    "\n",
    "lambda_e = h / math.sqrt(term1 - term2)\n",
    "\n",
    "angulo_bragg = math.sin(n * lambda_e / (2*d)) # radians\n",
    "\n",
    "dos_r = D * math.sin(4 * angulo_bragg)  # mm\n",
    "print(dos_r)"
   ]
  },
  {
   "cell_type": "code",
   "execution_count": null,
   "metadata": {},
   "outputs": [],
   "source": []
  }
 ],
 "metadata": {
  "kernelspec": {
   "display_name": "Python 3",
   "language": "python",
   "name": "python3"
  },
  "language_info": {
   "codemirror_mode": {
    "name": "ipython",
    "version": 3
   },
   "file_extension": ".py",
   "mimetype": "text/x-python",
   "name": "python",
   "nbconvert_exporter": "python",
   "pygments_lexer": "ipython3",
   "version": "3.7.2"
  }
 },
 "nbformat": 4,
 "nbformat_minor": 4
}
